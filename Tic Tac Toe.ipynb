{
 "cells": [
  {
   "cell_type": "code",
   "execution_count": 28,
   "id": "866c87ce-f9c2-406a-95e8-2451ed4eb6ae",
   "metadata": {},
   "outputs": [
    {
     "name": "stdout",
     "output_type": "stream",
     "text": [
      "\n",
      "\n",
      "Welcome to Tic Tac Toe!\n",
      "The board is numbered like the keyboard’s number pad.\n",
      "Players will take turns to enter their move.\n",
      "To make a move, enter a number from the keyboard number pad (1-9).\n",
      "The positions are as follows:\n",
      "7 | 8 | 9\n",
      "---------\n",
      "4 | 5 | 6\n",
      "---------\n",
      "1 | 2 | 3\n",
      "\n",
      "Let's start the game!\n",
      "\n",
      " | | \n",
      "-+-+-\n",
      " | | \n",
      "-+-+-\n",
      " | | \n",
      "It's your turn,X. Choose your position (1-9): \n"
     ]
    },
    {
     "name": "stdin",
     "output_type": "stream",
     "text": [
      " 7\n"
     ]
    },
    {
     "name": "stdout",
     "output_type": "stream",
     "text": [
      "\n",
      "\n",
      "X| | \n",
      "-+-+-\n",
      " | | \n",
      "-+-+-\n",
      " | | \n",
      "It's your turn,O. Choose your position (1-9): \n"
     ]
    },
    {
     "name": "stdin",
     "output_type": "stream",
     "text": [
      " 4\n"
     ]
    },
    {
     "name": "stdout",
     "output_type": "stream",
     "text": [
      "\n",
      "\n",
      "X| | \n",
      "-+-+-\n",
      "O| | \n",
      "-+-+-\n",
      " | | \n",
      "It's your turn,X. Choose your position (1-9): \n"
     ]
    },
    {
     "name": "stdin",
     "output_type": "stream",
     "text": [
      " 5\n"
     ]
    },
    {
     "name": "stdout",
     "output_type": "stream",
     "text": [
      "\n",
      "\n",
      "X| | \n",
      "-+-+-\n",
      "O|X| \n",
      "-+-+-\n",
      " | | \n",
      "It's your turn,O. Choose your position (1-9): \n"
     ]
    },
    {
     "name": "stdin",
     "output_type": "stream",
     "text": [
      " 1\n"
     ]
    },
    {
     "name": "stdout",
     "output_type": "stream",
     "text": [
      "\n",
      "\n",
      "X| | \n",
      "-+-+-\n",
      "O|X| \n",
      "-+-+-\n",
      "O| | \n",
      "It's your turn,X. Choose your position (1-9): \n"
     ]
    },
    {
     "name": "stdin",
     "output_type": "stream",
     "text": [
      " 3\n"
     ]
    },
    {
     "name": "stdout",
     "output_type": "stream",
     "text": [
      "\n",
      "\n",
      "X| | \n",
      "-+-+-\n",
      "O|X| \n",
      "-+-+-\n",
      "O| |X\n",
      "\n",
      "- - - - - - Game Over - - - - - - -\n",
      " **** Hooray! Player X wins! ****\n",
      "\n"
     ]
    },
    {
     "name": "stdin",
     "output_type": "stream",
     "text": [
      "Do want to play Again?(y/n) y\n"
     ]
    },
    {
     "name": "stdout",
     "output_type": "stream",
     "text": [
      "\n",
      "\n",
      "Welcome to Tic Tac Toe!\n",
      "The board is numbered like the keyboard’s number pad.\n",
      "Players will take turns to enter their move.\n",
      "To make a move, enter a number from the keyboard number pad (1-9).\n",
      "The positions are as follows:\n",
      "7 | 8 | 9\n",
      "---------\n",
      "4 | 5 | 6\n",
      "---------\n",
      "1 | 2 | 3\n",
      "\n",
      "Let's start the game!\n",
      "\n",
      " | | \n",
      "-+-+-\n",
      " | | \n",
      "-+-+-\n",
      " | | \n",
      "It's your turn,X. Choose your position (1-9): \n"
     ]
    },
    {
     "name": "stdin",
     "output_type": "stream",
     "text": [
      " 1\n"
     ]
    },
    {
     "name": "stdout",
     "output_type": "stream",
     "text": [
      "\n",
      "\n",
      " | | \n",
      "-+-+-\n",
      " | | \n",
      "-+-+-\n",
      "X| | \n",
      "It's your turn,O. Choose your position (1-9): \n"
     ]
    },
    {
     "name": "stdin",
     "output_type": "stream",
     "text": [
      " 4\n"
     ]
    },
    {
     "name": "stdout",
     "output_type": "stream",
     "text": [
      "\n",
      "\n",
      " | | \n",
      "-+-+-\n",
      "O| | \n",
      "-+-+-\n",
      "X| | \n",
      "It's your turn,X. Choose your position (1-9): \n"
     ]
    },
    {
     "name": "stdin",
     "output_type": "stream",
     "text": [
      " 8\n"
     ]
    },
    {
     "name": "stdout",
     "output_type": "stream",
     "text": [
      "\n",
      "\n",
      " |X| \n",
      "-+-+-\n",
      "O| | \n",
      "-+-+-\n",
      "X| | \n",
      "It's your turn,O. Choose your position (1-9): \n"
     ]
    },
    {
     "name": "stdin",
     "output_type": "stream",
     "text": [
      " 5\n"
     ]
    },
    {
     "name": "stdout",
     "output_type": "stream",
     "text": [
      "\n",
      "\n",
      " |X| \n",
      "-+-+-\n",
      "O|O| \n",
      "-+-+-\n",
      "X| | \n",
      "It's your turn,X. Choose your position (1-9): \n"
     ]
    },
    {
     "name": "stdin",
     "output_type": "stream",
     "text": [
      " 2\n"
     ]
    },
    {
     "name": "stdout",
     "output_type": "stream",
     "text": [
      "\n",
      "\n",
      " |X| \n",
      "-+-+-\n",
      "O|O| \n",
      "-+-+-\n",
      "X|X| \n",
      "It's your turn,O. Choose your position (1-9): \n"
     ]
    },
    {
     "name": "stdin",
     "output_type": "stream",
     "text": [
      " 6\n"
     ]
    },
    {
     "name": "stdout",
     "output_type": "stream",
     "text": [
      "\n",
      "\n",
      " |X| \n",
      "-+-+-\n",
      "O|O|O\n",
      "-+-+-\n",
      "X|X| \n",
      "\n",
      "- - - - - - Game Over - - - - - - -\n",
      " **** Hooray! Player O wins! ****\n",
      "\n"
     ]
    },
    {
     "name": "stdin",
     "output_type": "stream",
     "text": [
      "Do want to play Again?(y/n) y\n"
     ]
    },
    {
     "name": "stdout",
     "output_type": "stream",
     "text": [
      "\n",
      "\n",
      "Welcome to Tic Tac Toe!\n",
      "The board is numbered like the keyboard’s number pad.\n",
      "Players will take turns to enter their move.\n",
      "To make a move, enter a number from the keyboard number pad (1-9).\n",
      "The positions are as follows:\n",
      "7 | 8 | 9\n",
      "---------\n",
      "4 | 5 | 6\n",
      "---------\n",
      "1 | 2 | 3\n",
      "\n",
      "Let's start the game!\n",
      "\n",
      " | | \n",
      "-+-+-\n",
      " | | \n",
      "-+-+-\n",
      " | | \n",
      "It's your turn,X. Choose your position (1-9): \n"
     ]
    },
    {
     "name": "stdin",
     "output_type": "stream",
     "text": [
      " 7\n"
     ]
    },
    {
     "name": "stdout",
     "output_type": "stream",
     "text": [
      "\n",
      "\n",
      "X| | \n",
      "-+-+-\n",
      " | | \n",
      "-+-+-\n",
      " | | \n",
      "It's your turn,O. Choose your position (1-9): \n"
     ]
    },
    {
     "name": "stdin",
     "output_type": "stream",
     "text": [
      " 8\n"
     ]
    },
    {
     "name": "stdout",
     "output_type": "stream",
     "text": [
      "\n",
      "\n",
      "X|O| \n",
      "-+-+-\n",
      " | | \n",
      "-+-+-\n",
      " | | \n",
      "It's your turn,X. Choose your position (1-9): \n"
     ]
    },
    {
     "name": "stdin",
     "output_type": "stream",
     "text": [
      " 9\n"
     ]
    },
    {
     "name": "stdout",
     "output_type": "stream",
     "text": [
      "\n",
      "\n",
      "X|O|X\n",
      "-+-+-\n",
      " | | \n",
      "-+-+-\n",
      " | | \n",
      "It's your turn,O. Choose your position (1-9): \n"
     ]
    },
    {
     "name": "stdin",
     "output_type": "stream",
     "text": [
      " 4\n"
     ]
    },
    {
     "name": "stdout",
     "output_type": "stream",
     "text": [
      "\n",
      "\n",
      "X|O|X\n",
      "-+-+-\n",
      "O| | \n",
      "-+-+-\n",
      " | | \n",
      "It's your turn,X. Choose your position (1-9): \n"
     ]
    },
    {
     "name": "stdin",
     "output_type": "stream",
     "text": [
      " 5\n"
     ]
    },
    {
     "name": "stdout",
     "output_type": "stream",
     "text": [
      "\n",
      "\n",
      "X|O|X\n",
      "-+-+-\n",
      "O|X| \n",
      "-+-+-\n",
      " | | \n",
      "It's your turn,O. Choose your position (1-9): \n"
     ]
    },
    {
     "name": "stdin",
     "output_type": "stream",
     "text": [
      " 3\n"
     ]
    },
    {
     "name": "stdout",
     "output_type": "stream",
     "text": [
      "\n",
      "\n",
      "X|O|X\n",
      "-+-+-\n",
      "O|X| \n",
      "-+-+-\n",
      " | |O\n",
      "It's your turn,X. Choose your position (1-9): \n"
     ]
    },
    {
     "name": "stdin",
     "output_type": "stream",
     "text": [
      " 2\n"
     ]
    },
    {
     "name": "stdout",
     "output_type": "stream",
     "text": [
      "\n",
      "\n",
      "X|O|X\n",
      "-+-+-\n",
      "O|X| \n",
      "-+-+-\n",
      " |X|O\n",
      "It's your turn,O. Choose your position (1-9): \n"
     ]
    },
    {
     "name": "stdin",
     "output_type": "stream",
     "text": [
      " 1\n"
     ]
    },
    {
     "name": "stdout",
     "output_type": "stream",
     "text": [
      "\n",
      "\n",
      "X|O|X\n",
      "-+-+-\n",
      "O|X| \n",
      "-+-+-\n",
      "O|X|O\n",
      "It's your turn,X. Choose your position (1-9): \n"
     ]
    },
    {
     "name": "stdin",
     "output_type": "stream",
     "text": [
      " 2\n"
     ]
    },
    {
     "name": "stdout",
     "output_type": "stream",
     "text": [
      "\n",
      "\n",
      "That place is already filled.\n",
      "Please choose other position (1-9):\n",
      "X|O|X\n",
      "-+-+-\n",
      "O|X| \n",
      "-+-+-\n",
      "O|X|O\n",
      "It's your turn,X. Choose your position (1-9): \n"
     ]
    },
    {
     "name": "stdin",
     "output_type": "stream",
     "text": [
      " 6\n"
     ]
    },
    {
     "name": "stdout",
     "output_type": "stream",
     "text": [
      "\n",
      "\n",
      "\n",
      "--------Game Over--------\n",
      "The game is a tie! Well played both sides!\n",
      "\n"
     ]
    },
    {
     "name": "stdin",
     "output_type": "stream",
     "text": [
      "Do want to play Again?(y/n) n\n"
     ]
    },
    {
     "name": "stdout",
     "output_type": "stream",
     "text": [
      "See you next time! =)\n"
     ]
    }
   ],
   "source": [
    "# Initialize the board with a dictionary where keys represent positions on a keyboard number pad\n",
    "theBoard = {'7': ' ' , '8': ' ' , '9': ' ' ,\n",
    "            '4': ' ' , '5': ' ' , '6': ' ' ,\n",
    "            '1': ' ' , '2': ' ' , '3': ' ' }\n",
    "\n",
    "board_keys = []\n",
    "\n",
    "for key in theBoard:\n",
    "    board_keys.append(key)\n",
    "\n",
    "\n",
    "# Function to print the current state of the board\n",
    "def printBoard(board):\n",
    "    print(board['7'] + '|' + board['8'] + '|' + board['9'])\n",
    "    print('-+-+-')\n",
    "    print(board['4'] + '|' + board['5'] + '|' + board['6'])\n",
    "    print('-+-+-')\n",
    "    print(board['1'] + '|' + board['2'] + '|' + board['3'])\n",
    "\n",
    "# Main Function\n",
    "def game():\n",
    "\n",
    "    # Introduction\n",
    "    print(\"\\n\")\n",
    "    print(\"Welcome to Tic Tac Toe!\")\n",
    "    print(\"The board is numbered like the keyboard’s number pad.\")\n",
    "    print(\"Players will take turns to enter their move.\")\n",
    "    print(\"To make a move, enter a number from the keyboard number pad (1-9).\")\n",
    "    print(\"The positions are as follows:\")\n",
    "    print(\"7 | 8 | 9\")\n",
    "    print(\"---------\")\n",
    "    print(\"4 | 5 | 6\")\n",
    "    print(\"---------\")\n",
    "    print(\"1 | 2 | 3\")\n",
    "    print(\"\\nLet's start the game!\\n\")\n",
    "    \n",
    "    turn = 'X'\n",
    "    count = 0\n",
    "\n",
    "    for i in range(10):\n",
    "        printBoard(theBoard)\n",
    "        print(\"It's your turn,\" + turn + \". Choose your position (1-9): \")\n",
    "\n",
    "        move = input()        \n",
    "\n",
    "        if theBoard[move] == ' ':\n",
    "            theBoard[move] = turn\n",
    "            count += 1\n",
    "        else:\n",
    "            print(\"\\n\")\n",
    "            print(\"That place is already filled.\\nPlease choose other position (1-9):\")\n",
    "            continue\n",
    "\n",
    "        # Display the result on an empty line\n",
    "        print(\"\\n\")\n",
    "        \n",
    "        # Check if player X or O has won,for every move after 5 moves. \n",
    "        if count >= 5:\n",
    "            if theBoard['7'] == theBoard['8'] == theBoard['9'] != ' ': # across the top\n",
    "                printBoard(theBoard)\n",
    "                print(\"\\n- - - - - - Game Over - - - - - - -\")  \n",
    "                print(\" **** Hooray! Player \" + turn + \" wins! ****\\n\")               \n",
    "                break\n",
    "            elif theBoard['4'] == theBoard['5'] == theBoard['6'] != ' ': # across the middle\n",
    "                printBoard(theBoard)\n",
    "                print(\"\\n- - - - - - Game Over - - - - - - -\")  \n",
    "                print(\" **** Hooray! Player \" + turn + \" wins! ****\\n\")\n",
    "                break\n",
    "            elif theBoard['1'] == theBoard['2'] == theBoard['3'] != ' ': # across the bottom\n",
    "                printBoard(theBoard)\n",
    "                print(\"\\n- - - - - - Game Over - - - - - - -\")  \n",
    "                print(\" **** Hooray! Player \" + turn + \" wins! ****\\n\")\n",
    "                break\n",
    "            elif theBoard['1'] == theBoard['4'] == theBoard['7'] != ' ': # down the left side\n",
    "                printBoard(theBoard)\n",
    "                print(\"\\n- - - - - - Game Over - - - - - - -\")  \n",
    "                print(\" **** Hooray! Player \" + turn + \" wins! ****\\n\")\n",
    "                break\n",
    "            elif theBoard['2'] == theBoard['5'] == theBoard['8'] != ' ': # down the middle\n",
    "                printBoard(theBoard)\n",
    "                print(\"\\n- - - - - - Game Over - - - - - - -\")  \n",
    "                print(\" **** Hooray! Player \" + turn + \" wins! ****\\n\")\n",
    "                break\n",
    "            elif theBoard['3'] == theBoard['6'] == theBoard['9'] != ' ': # down the right side\n",
    "                printBoard(theBoard)\n",
    "                print(\"\\n- - - - - - Game Over - - - - - - -\")  \n",
    "                print(\" **** Hooray! Player \" + turn + \" wins! ****\\n\")\n",
    "                break \n",
    "            elif theBoard['7'] == theBoard['5'] == theBoard['3'] != ' ': # diagonal\n",
    "                printBoard(theBoard)\n",
    "                print(\"\\n- - - - - - Game Over - - - - - - -\")  \n",
    "                print(\" **** Hooray! Player \" + turn + \" wins! ****\\n\")\n",
    "                break\n",
    "            elif theBoard['1'] == theBoard['5'] == theBoard['9'] != ' ': # diagonal\n",
    "                printBoard(theBoard)                \n",
    "                print(\"\\n- - - - - - Game Over - - - - - - -\")  \n",
    "                print(\" **** Hooray! Player \" + turn + \" wins! ****\\n\")\n",
    "                break \n",
    "\n",
    "        # X & O both no win and the board is full, declare the result as 'tie'.\n",
    "        if count == 9:\n",
    "            print(\"\\n--------Game Over--------\")                \n",
    "            print(\"The game is a tie! Well played both sides!\\n\")\n",
    "            break\n",
    "\n",
    "        if turn =='X':\n",
    "            turn = 'O'\n",
    "        else:\n",
    "            turn = 'X'        \n",
    "    \n",
    "    # Ask player\n",
    "    restart = input(\"Do want to play Again?(y/n)\")\n",
    "    if restart == \"y\" or restart == \"Y\":  \n",
    "        for key in board_keys:\n",
    "            theBoard[key] = \" \"\n",
    "            \n",
    "        game()\n",
    "        \n",
    "    else:\n",
    "        print(\"See you next time! =)\")\n",
    "\n",
    "        \n",
    "\n",
    "if __name__ == \"__main__\":\n",
    "    game()"
   ]
  },
  {
   "cell_type": "code",
   "execution_count": null,
   "id": "5b4109da-4d2e-4327-8451-c300dc3d8aef",
   "metadata": {},
   "outputs": [],
   "source": []
  }
 ],
 "metadata": {
  "kernelspec": {
   "display_name": "Python 3 (ipykernel)",
   "language": "python",
   "name": "python3"
  },
  "language_info": {
   "codemirror_mode": {
    "name": "ipython",
    "version": 3
   },
   "file_extension": ".py",
   "mimetype": "text/x-python",
   "name": "python",
   "nbconvert_exporter": "python",
   "pygments_lexer": "ipython3",
   "version": "3.11.7"
  }
 },
 "nbformat": 4,
 "nbformat_minor": 5
}
